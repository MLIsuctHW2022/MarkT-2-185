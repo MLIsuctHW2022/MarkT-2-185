{
  "nbformat": 4,
  "nbformat_minor": 0,
  "metadata": {
    "colab": {
      "provenance": []
    },
    "kernelspec": {
      "name": "python3",
      "display_name": "Python 3"
    },
    "language_info": {
      "name": "python"
    }
  },
  "cells": [
    {
      "cell_type": "code",
      "execution_count": 10,
      "metadata": {
        "id": "xDmumlo7JJIH"
      },
      "outputs": [],
      "source": [
        "import numpy as np\n",
        "from sklearn.metrics import accuracy_score\n",
        "from sklearn.datasets import load_breast_cancer"
      ]
    },
    {
      "cell_type": "code",
      "source": [
        "data = load_breast_cancer()"
      ],
      "metadata": {
        "id": "TpX2BnREQS6z"
      },
      "execution_count": 11,
      "outputs": []
    },
    {
      "cell_type": "code",
      "source": [
        "X = data.data\n",
        "y = data.target"
      ],
      "metadata": {
        "id": "DCF69ZhFQUFA"
      },
      "execution_count": 12,
      "outputs": []
    },
    {
      "cell_type": "code",
      "source": [
        "class ElasticReg():\n",
        "    def __init__(self, l1=0.1, l2=0.1, n_iter=1000, learning_rate=0.01):\n",
        "        self.l1 = l1\n",
        "        self.l2 = l2\n",
        "        self.n_iter = n_iter\n",
        "        self.learning_rate = learning_rate\n",
        "        self.w = None\n",
        "        self.b = None\n",
        "        self.loss = []\n",
        "\n",
        "    def fit(self, X, y):\n",
        "        n_samples, n_features = X.shape\n",
        "        self.w = np.zeros(n_features)\n",
        "        self.b = 0     \n",
        "        for _ in range(self.n_iter):\n",
        "            y_pred = self.sigmoid(np.dot(X, self.w) + self.b)\n",
        "            dw = (1 / n_samples) * np.dot(X.T, (y_pred - y)) + self.l2 * self.w + self.l1 * np.sign(self.w)\n",
        "            db = (1 / n_samples) * np.sum(y_pred - y)\n",
        "            self.w -= self.learning_rate * dw\n",
        "            self.b -= self.learning_rate * db\n",
        "            self.loss.append(self.loss_func(y, y_pred))\n",
        "\n",
        "    def predict(self, X):\n",
        "        y_pred = self.sigmoid(np.dot(X, self.w) + self.b)\n",
        "        y_pred_cls = [1 if i > 0.5 else 0 for i in y_pred]\n",
        "        return y_pred_cls\n",
        "\n",
        "    def sigmoid(self, x):\n",
        "        return 1/(1+np.exp(-x))\n",
        "\n",
        "    def loss_func(self, y, y_pred):\n",
        "        return -np.mean(y * np.log(y_pred) + (1 - y) * np.log(1 - y_pred))"
      ],
      "metadata": {
        "id": "eoC4WopZQY1K"
      },
      "execution_count": 13,
      "outputs": []
    },
    {
      "cell_type": "code",
      "source": [
        "model = ElasticReg()\n",
        "n_folds = 10\n",
        "scores = []\n",
        "idxs = np.arange(X.shape[0])\n",
        "np.random.shuffle(idxs)\n",
        "split_size = idxs.shape[0] // n_folds\n",
        "for i in range(n_folds):\n",
        "    test_idxs = idxs[i * split_size : (i + 1) * split_size]\n",
        "    train_idxs = [i for i in idxs if i not in test_idxs]\n",
        "    model.fit(X[train_idxs], y[train_idxs])\n",
        "    predictions = model.predict(X[test_idxs])\n",
        "    scores.append(np.mean(predictions == y[test_idxs]))\n",
        "    print(np.mean(scores))"
      ],
      "metadata": {
        "colab": {
          "base_uri": "https://localhost:8080/"
        },
        "id": "IMLQDf-1Ra4q",
        "outputId": "f366dc50-62e7-4a46-abe8-7bda1dc78319"
      },
      "execution_count": 15,
      "outputs": [
        {
          "output_type": "stream",
          "name": "stderr",
          "text": [
            "<ipython-input-13-f0964f415384>:29: RuntimeWarning: overflow encountered in exp\n",
            "  return 1/(1+np.exp(-x))\n",
            "<ipython-input-13-f0964f415384>:32: RuntimeWarning: divide by zero encountered in log\n",
            "  return -np.mean(y * np.log(y_pred) + (1 - y) * np.log(1 - y_pred))\n",
            "<ipython-input-13-f0964f415384>:32: RuntimeWarning: invalid value encountered in multiply\n",
            "  return -np.mean(y * np.log(y_pred) + (1 - y) * np.log(1 - y_pred))\n"
          ]
        },
        {
          "output_type": "stream",
          "name": "stdout",
          "text": [
            "0.8392857142857143\n",
            "0.8839285714285714\n",
            "0.8809523809523809\n",
            "0.875\n",
            "0.8714285714285713\n",
            "0.869047619047619\n",
            "0.8801020408163264\n",
            "0.8861607142857143\n",
            "0.8293650793650794\n",
            "0.8107142857142857\n"
          ]
        }
      ]
    }
  ]
}