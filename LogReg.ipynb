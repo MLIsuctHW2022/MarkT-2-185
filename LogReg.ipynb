{
  "cells": [
    {
      "cell_type": "code",
      "execution_count": 1,
      "metadata": {
        "id": "-kQeYzi1po5n"
      },
      "outputs": [],
      "source": [
        "import numpy as np\n",
        "from sklearn.metrics import accuracy_score\n",
        "from sklearn.datasets import load_breast_cancer"
      ]
    },
    {
      "cell_type": "code",
      "execution_count": 2,
      "metadata": {
        "id": "JdwNAvtypuDf"
      },
      "outputs": [],
      "source": [
        "data = load_breast_cancer()"
      ]
    },
    {
      "cell_type": "code",
      "execution_count": 3,
      "metadata": {},
      "outputs": [],
      "source": [
        "X = data.data\n",
        "y = data.target"
      ]
    },
    {
      "cell_type": "code",
      "execution_count": 4,
      "metadata": {
        "id": "BGj9finkpwmJ"
      },
      "outputs": [],
      "source": [
        "class LogReg():\n",
        "    def __init__(self, n_iter=1000, learning_rate=0.01):\n",
        "        self.n_iter = n_iter\n",
        "        self.learning_rate = learning_rate\n",
        "\n",
        "    def fit(self, X, y):\n",
        "        n = X.shape[1]\n",
        "        self.weights = np.random.rand(n)\n",
        "        self.weights[-1] = 0\n",
        "        for i in range(self.n_iter):\n",
        "            index = np.random.randint(X.shape[0])\n",
        "            value = np.ones(n)\n",
        "            value[:n] = X[index]\n",
        "            answer = y[index]\n",
        "            sigma = self.sigmoid(value.dot(self.weights))\n",
        "            diff = (answer - sigma) * value\n",
        "            self.weights = self.weights - self.learning_rate * diff\n",
        "\n",
        "    def predict(self, X):\n",
        "        return self.sigmoid(np.dot(X, self.weights))\n",
        "\n",
        "    def sigmoid(self, x):\n",
        "        return 1/(1+np.exp(-x))"
      ]
    },
    {
      "cell_type": "code",
      "execution_count": 5,
      "metadata": {
        "id": "pmHpz1_5POSA"
      },
      "outputs": [
        {
          "name": "stdout",
          "output_type": "stream",
          "text": [
            "0.5892857142857143\n",
            "0.6517857142857143\n",
            "0.6428571428571429\n",
            "0.6696428571428572\n",
            "0.6357142857142858\n",
            "0.6398809523809524\n",
            "0.6326530612244898\n",
            "0.6339285714285714\n",
            "0.6309523809523809\n",
            "0.6267857142857143\n"
          ]
        }
      ],
      "source": [
        "model = LogReg()\n",
        "n_folds = 10\n",
        "scores = []\n",
        "idxs = np.arange(X.shape[0])\n",
        "np.random.shuffle(idxs)\n",
        "split_size = idxs.shape[0] // n_folds\n",
        "for i in range(n_folds):\n",
        "    test_idxs = idxs[i * split_size : (i + 1) * split_size]\n",
        "    train_idxs = [i for i in idxs if i not in test_idxs]\n",
        "    model.fit(X[train_idxs], y[train_idxs])\n",
        "    predictions = model.predict(X[test_idxs])\n",
        "    scores.append(np.mean(predictions == y[test_idxs]))\n",
        "    print(np.mean(scores))"
      ]
    }
  ],
  "metadata": {
    "colab": {
      "provenance": []
    },
    "kernelspec": {
      "display_name": "Python 3.11.0 64-bit",
      "language": "python",
      "name": "python3"
    },
    "language_info": {
      "codemirror_mode": {
        "name": "ipython",
        "version": 3
      },
      "file_extension": ".py",
      "mimetype": "text/x-python",
      "name": "python",
      "nbconvert_exporter": "python",
      "pygments_lexer": "ipython3",
      "version": "3.11.0"
    },
    "vscode": {
      "interpreter": {
        "hash": "0934a68f174fbcd97e1652fbfde747be58fe8eba125e80b1dc481fe1563676e8"
      }
    }
  },
  "nbformat": 4,
  "nbformat_minor": 0
}
